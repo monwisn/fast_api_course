{
 "cells": [
  {
   "cell_type": "markdown",
   "id": "1150d64b",
   "metadata": {
    "pycharm": {
     "name": "#%% md\n"
    }
   },
   "source": [
    "#### UWAGA NR 1"
   ]
  },
  {
   "cell_type": "markdown",
   "source": [],
   "metadata": {
    "collapsed": false,
    "pycharm": {
     "name": "#%% md\n"
    }
   }
  },
  {
   "cell_type": "markdown",
   "id": "7cbb1f08",
   "metadata": {
    "pycharm": {
     "name": "#%% md\n"
    }
   },
   "source": [
    "Praca domowa sprawdzana będzie **AUTOMATYCZNIE** dlatego bardzo ważne jest, żeby wasze aplikacje zwracały dokładnie to o co proszono w poleceniu. Jeżeli aplikacja zwróci np. `Hello Wurld!` albo `hello world!` zamiast `Hello World!`, rozwiązanie nie przejdzie testu. W zadaniach, w których zwracamy HTML, wystarczy że zadany fragment będzie zawarty w odpowiedzi, może też znajdować się tam dodatkowy HTML."
   ]
  },
  {
   "cell_type": "markdown",
   "id": "68cf2d21",
   "metadata": {
    "pycharm": {
     "name": "#%% md\n"
    }
   },
   "source": [
    "#### UWAGA NR 2"
   ]
  },
  {
   "cell_type": "markdown",
   "id": "caef6720",
   "metadata": {
    "pycharm": {
     "name": "#%% md\n"
    }
   },
   "source": [
    "Jako że wasze aplikacje są hostowane na zewnętrznym hostingu, jedyne co należy wypełnić to adres url aplikacji w pliku main.py"
   ]
  },
  {
   "cell_type": "code",
   "execution_count": 1,
   "id": "ca4083eb",
   "metadata": {
    "pycharm": {
     "name": "#%%\n"
    }
   },
   "outputs": [],
   "source": [
    "class HerokuApp:\n",
    "    app_url = \"\""
   ]
  },
  {
   "cell_type": "markdown",
   "id": "b57b803e",
   "metadata": {
    "tags": [],
    "pycharm": {
     "name": "#%% md\n"
    }
   },
   "source": [
    "W tym pliku nie powinien znajdować się żaden inny kod - w szczególności importy."
   ]
  },
  {
   "cell_type": "markdown",
   "source": [
    "#### UWAGA NR 3\n",
    "\n",
    "Będziemy korzystać z pamięci podręcznej. Żeby każdy request korzystał z tej samej pamięci podręcznej, należy uruchomić aplikację tylko na jednym workerze. W tym celu należy do procfile dorzucić flagę --workers 1, czyli całość będzię wyglądać tak:\n",
    "\n",
    "```\n",
    "web: uvicorn app:app --host=0.0.0.0 --port=${PORT:-5000} --workers 1\n",
    "```\n"
   ],
   "metadata": {
    "collapsed": false,
    "pycharm": {
     "name": "#%% md\n"
    }
   }
  },
  {
   "cell_type": "markdown",
   "id": "6ee71682",
   "metadata": {
    "pycharm": {
     "name": "#%% md\n"
    }
   },
   "source": [
    "### Zadanie 3.1\n",
    "Zaczniemy od powtórzenia zadania z pierwszej części kursu, ale tym razem w formacie html - stwórz endpoint pod ścieżką `/start`, który zwróci dla metody GET następujący HTML:"
   ]
  },
  {
   "cell_type": "markdown",
   "source": [
    "```html\n",
    "<h1>The unix epoch started at 1970-01-01</h1>\n",
    "```"
   ],
   "metadata": {
    "collapsed": false,
    "pycharm": {
     "name": "#%% md\n"
    }
   }
  },
  {
   "cell_type": "markdown",
   "source": [
    "Pamiętaj o właściwym Content-Type."
   ],
   "metadata": {
    "collapsed": false,
    "pycharm": {
     "name": "#%% md\n"
    }
   }
  },
  {
   "cell_type": "markdown",
   "source": [
    "### Zadanie 3.2\n",
    "Zajmijmy się autoryzacją. Chcemy, aby nasza aplikacja była dostępna wyłącznie dla użytkowników, którzy ukończyli 16 lat. W tym celu będziemy wymagać, aby \"zalogowali\" się, podając jako login swoje imie (dowolny ciąg znaków), a jako hasło datę urodzenia (w formacie, oczywiście, YYYY-MM-DD).\n",
    "\n",
    "Stwórz endpoint `/check`. Będzie on przyjmował (na metodzie POST), w postaci basic-auth wyżej wymienione dane. W przypadku gdy użytkownik nie poda poprawnej daty bądź jest to data mniej niż 16 lat temu, należy zwrócić kod 401. W przypadku podania poprawnych danych należy zwrócić kod 200, oraz wiadomość w formacie html:"
   ],
   "metadata": {
    "collapsed": false,
    "pycharm": {
     "name": "#%% md\n"
    }
   }
  },
  {
   "cell_type": "markdown",
   "source": [],
   "metadata": {
    "collapsed": false,
    "pycharm": {
     "name": "#%% md\n"
    }
   }
  },
  {
   "cell_type": "markdown",
   "source": [
    "```html\n",
    "<h1>Welcome [imie]! You are [wiek]</h1>\n",
    "```"
   ],
   "metadata": {
    "collapsed": false,
    "pycharm": {
     "name": "#%% md\n"
    }
   }
  },
  {
   "cell_type": "markdown",
   "source": [
    "Gdzie w miejsce [wiek] podajemy wyliczony wiek użytkownika (w ukończonych latach) a w miejsce [imie] podane przez użytkownika imie. Ponownie należy pamiętać o nagłówku content-type."
   ],
   "metadata": {
    "collapsed": false,
    "pycharm": {
     "name": "#%% md\n"
    }
   }
  },
  {
   "cell_type": "markdown",
   "source": [
    "### Zadanie 3.3\n",
    " Utwórz endpoint `/info`, który przyjmie parametr zapytania `?format`, akceptując dwie wartości: `html` i `json`.\n",
    "\n",
    "W przypadku wartości `json`, endpoint powinien zwrócić:\n"
   ],
   "metadata": {
    "collapsed": false,
    "pycharm": {
     "name": "#%% md\n"
    }
   }
  },
  {
   "cell_type": "code",
   "execution_count": 2,
   "outputs": [
    {
     "data": {
      "text/plain": "{'user_agent': '<wartość headera User-Agent wyslanego przez użytkownika>'}"
     },
     "execution_count": 2,
     "metadata": {},
     "output_type": "execute_result"
    }
   ],
   "source": [
    "{\n",
    "    \"user_agent\": \"<wartość headera User-Agent wyslanego przez użytkownika>\"\n",
    "}"
   ],
   "metadata": {
    "collapsed": false,
    "pycharm": {
     "name": "#%%\n"
    }
   }
  },
  {
   "cell_type": "markdown",
   "source": [
    "A w przypadku html: (pamiętając o content-type)"
   ],
   "metadata": {
    "collapsed": false,
    "pycharm": {
     "name": "#%% md\n"
    }
   }
  },
  {
   "cell_type": "markdown",
   "source": [
    "```html\n",
    "<input type=\"text\" id=user-agent name=agent value=\"<wartość User-Agent>\">\n",
    "```"
   ],
   "metadata": {
    "collapsed": false,
    "pycharm": {
     "name": "#%% md\n"
    }
   }
  },
  {
   "cell_type": "markdown",
   "source": [
    "W przypadku braku wartości format (lub wartości innej niż dozwolona), należy zwrócić kod błędu 400."
   ],
   "metadata": {
    "collapsed": false,
    "pycharm": {
     "name": "#%% md\n"
    }
   }
  },
  {
   "cell_type": "markdown",
   "source": [
    "### Zadanie 3.4\n",
    "\n",
    "Stwórz endpoint `/save/[string]`, który przyjmie dowolny ciąg liter i cyfr w ścieżce, oraz:\n",
    "\n",
    "* Przy metodzie PUT, zapisze fakt, że ta ścieżka została już użyta, i zwróci kod 200\n",
    "* Przy metodzie GET, zwróci kod 404, chyba że ścieżka została już użyta - w takim przypadku zwróci przekierowanie (z kodem 301), na endpoint /info z poprzedniego zadania (Podpowiedź: trzeba użyć headera `Location`) (Dokumentacja: https://developer.mozilla.org/en-US/docs/Web/HTTP/Redirections)\n",
    "* Przy metodzie DELETE, usunie zapisaną ścieżkę (przywracając jej zachowanie do 404)\n",
    "* Przy pozostałych metodach, zwróci kod 400"
   ],
   "metadata": {
    "collapsed": false,
    "pycharm": {
     "name": "#%% md\n"
    }
   }
  },
  {
   "cell_type": "markdown",
   "source": [],
   "metadata": {
    "collapsed": false,
    "pycharm": {
     "name": "#%% md\n"
    }
   }
  },
  {
   "cell_type": "markdown",
   "source": [],
   "metadata": {
    "collapsed": false,
    "pycharm": {
     "name": "#%% md\n"
    }
   }
  }
 ],
 "metadata": {
  "kernelspec": {
   "display_name": "Python 3 (ipykernel)",
   "language": "python",
   "name": "python3"
  },
  "language_info": {
   "codemirror_mode": {
    "name": "ipython",
    "version": 3
   },
   "file_extension": ".py",
   "mimetype": "text/x-python",
   "name": "python",
   "nbconvert_exporter": "python",
   "pygments_lexer": "ipython3",
   "version": "3.9.6"
  }
 },
 "nbformat": 4,
 "nbformat_minor": 5
}