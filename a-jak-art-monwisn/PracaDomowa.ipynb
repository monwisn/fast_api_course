{
 "cells": [
  {
   "cell_type": "markdown",
   "metadata": {},
   "source": [
    "## Praca Domowa - Wykład nr 2"
   ]
  },
  {
   "cell_type": "markdown",
   "metadata": {},
   "source": [
    "Tym razem w przeciwieństwie do poprzedniej pracy nie robimy aplikacji internetowej tylko piszemy dekoratory. Stąd nie ma potrzeby wrzucania kodu na platformę `Heroku`. Cały kod dekoratora należy wrzucić na github classroom - tak jak w zadaniach z poprzedniego tygodnia. Do każdego zadania są przygotowane dwa pliki: `file.py` oraz `example_test.py`. W pierwszym pliku należy wrzucić kod dekoratora, drugi plik zawiera przykładowy test z wykorzystaniem biblioteki `unittest`. Przed kliknięciem `submit` zaleca się uruchomienie pliku z przykładowym testem."
   ]
  },
  {
   "cell_type": "markdown",
   "metadata": {},
   "source": [
    "### Zadanie 2.1"
   ]
  },
  {
   "cell_type": "markdown",
   "metadata": {},
   "source": [
    "Przywitajmy się na początek! Stwórz dekorator `greeter`, który opakowuje funkcję zwracającą stringa zawierającego imię bądź imiona oraz nazwisko. Dekorator ma sformatować tego stringa tak, że pierwsza litera każdego z imion oraz nazwiska ma być pisana z dużej litery, pozostałe mają być z małej. Ponad to, dekorator ma również dodać `Aloha` na początek."
   ]
  },
  {
   "cell_type": "markdown",
   "metadata": {},
   "source": [
    "#### Przykład:"
   ]
  },
  {
   "cell_type": "code",
   "execution_count": 1,
   "metadata": {},
   "outputs": [],
   "source": [
    "@greeter\n",
    "def name_surname():\n",
    "    return \"jan nowak\"\n",
    "\n",
    "assert name_surname() == \"Aloha Jan Nowak\""
   ]
  },
  {
   "cell_type": "markdown",
   "metadata": {},
   "source": [
    "### Zadanie 2.2"
   ]
  },
  {
   "cell_type": "markdown",
   "metadata": {},
   "source": [
    "`-11 == -2`, a `1234 != -1234`. Napisz dekorator na funkcję `sums_of_str_elements_are_equal` która zwraca string zawierający dwie liczby (dodatnie lub ujemne) rozdzielone spacją. Zadaniem dekoratora jest sprawdzenie czy suma cyfr pierwszej liczby jest równa sumie cyfr drugiej liczby oraz zwrócenie `suma_cyfr_pierwszej_liczby == suma_cyfr_drugiej_liczby` w przypadku gdy suma jest równa lub `suma_cyfr_pierwszej_liczby != suma_cyfr_drugiej_liczby` w przeciwnym wypadku. Jeśli któraś z liczba zaczyna się od znaku minus `-` to należy traktować każdą cyfrę danej liczby jako ujemną: `-1234` oznacza cyfry `-1, -2, -3, -4`" 
   ]
  },
  {
   "cell_type": "markdown",
   "metadata": {},
   "source": [
    "#### Przykład:"
   ]
  },
  {
   "cell_type": "code",
   "execution_count": 3,
   "metadata": {},
   "outputs": [],
   "source": [
    "@sums_of_str_elements_are_equal\n",
    "def calculate():\n",
    "    return \"-11 -2\"\n",
    "\n",
    "assert calculate() == \"-2 == -2\""
   ]
  },
  {
   "cell_type": "markdown",
   "metadata": {},
   "source": [
    "### Zadanie 2.3"
   ]
  },
  {
   "cell_type": "markdown",
   "metadata": {},
   "source": [
    "Napisz dekorator `format_output`, który przyjmuje argumenty pozycyjne w postaci stringów oraz opakowuję funkcję zwracającą dict'a. Zadaniem dekoratora jest przeformatowanie dict'a pozostawiając tylko kluczę z argumentów dekoratora i odpowiadające im wartości. Uwaga! Jednakże niektóre klucze w argumentach dekoratora są dosyć nietypowe, gdyż mogą składać się z kilku pojedynczych kluczy. Wtedy takie klucze są połączone podwójną podłogą `__`, wartością nowo utworzonego klucza będą wartośi kluczy składowych połączone pojedynczą spacją. W przypadku podania nieistniejącego klucza lub klucza źle zdefiniowanego, dekorator ma rzucić wyjątkiem `ValueError`. Jeśli wartość dla klucza jest pusta: `''` to dla takiego klucza należy zwrócić `Empty value` jako jego wartość"
   ]
  },
  {
   "cell_type": "markdown",
   "metadata": {},
   "source": [
    "#### Przykład:"
   ]
  },
  {
   "cell_type": "code",
   "execution_count": null,
   "metadata": {},
   "outputs": [],
   "source": [
    "@format_output(\"first_name__last_name\", \"city\")\n",
    "def first_func():\n",
    "    return {\n",
    "        \"first_name\": \"Jan\",\n",
    "        \"last_name\": \"Kowalski\"\n",
    "        \"city\": \"Warsaw\"\n",
    "    }\n",
    "\n",
    "@format_output(\"first_name\", \"age\")\n",
    "def second_func():\n",
    "    return {\n",
    "        \"first_name\": \"Jan\",\n",
    "        \"last_name\": \"Kowalski\"\n",
    "        \"city\": \"Warsaw\"\n",
    "    }\n",
    "\n",
    "assert first_func() == {\"first_name__last_name\": \"Jan Kowalski\", \"city\": \"Warsaw\"}\n",
    "\n",
    "second_func() -> raise ValueError"
   ]
  },
  {
   "cell_type": "markdown",
   "metadata": {},
   "source": [
    "### Zadanie 2.4"
   ]
  },
  {
   "cell_type": "markdown",
   "metadata": {},
   "source": [
    "Stwórz dekorator `add_method_to_instance` który przyjmuje w parametrze klasę. Zadaniem dekoratora będzie opakować funkcję w ten sposób, że dana funkcja stanie się metodą jej instancji. \n",
    "Zwróć szczególną uwagę na przykład poniżej.\n",
    "Przydatne materiały https://block.arch.ethz.ch/blog/2016/07/adding-methods-to-python-classes/"
   ]
  },
  {
   "cell_type": "code",
   "execution_count": 6,
   "metadata": {},
   "outputs": [],
   "source": [
    "class A:\n",
    "    pass\n",
    "\n",
    "@add_method_to_instance(A)\n",
    "def bar():\n",
    "    return \"Hello again!\"\n",
    "\n",
    "assert A().bar() == \"Hello again!\""
   ]
  },
  {
   "cell_type": "code",
   "execution_count": null,
   "metadata": {},
   "outputs": [],
   "source": []
  }
 ],
 "metadata": {
  "kernelspec": {
   "display_name": "Python 3",
   "language": "python",
   "name": "python3"
  },
  "language_info": {
   "codemirror_mode": {
    "name": "ipython",
    "version": 3
   },
   "file_extension": ".py",
   "mimetype": "text/x-python",
   "name": "python",
   "nbconvert_exporter": "python",
   "pygments_lexer": "ipython3",
   "version": "3.8.2"
  }
 },
 "nbformat": 4,
 "nbformat_minor": 5
}
